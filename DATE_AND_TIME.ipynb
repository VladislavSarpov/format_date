{
 "cells": [
  {
   "cell_type": "markdown",
   "metadata": {},
   "source": [
    "Задание 1\n",
    "Печатные газеты использовали свой формат дат для каждого выпуска. Для каждой газеты из списка напишите формат указанной даты для перевода в объект datetime:\n",
    "The Moscow Times - Wednesday, October 2, 2002\n",
    "The Guardian - Friday, 11.10.13\n",
    "Daily News - Thursday, 18 August 1977"
   ]
  },
  {
   "cell_type": "code",
   "execution_count": 21,
   "metadata": {},
   "outputs": [],
   "source": [
    "import datetime as dt\n",
    "from datetime import datetime"
   ]
  },
  {
   "cell_type": "code",
   "execution_count": 42,
   "metadata": {},
   "outputs": [
    {
     "name": "stdout",
     "output_type": "stream",
     "text": [
      "The Moscow Times 2002-10-02 00:00:00\n",
      "The Guardian 2013-10-11 00:00:00\n",
      "Daily News 1977-08-18 00:00:00\n"
     ]
    }
   ],
   "source": [
    "lines = [\n",
    "    'The Moscow Times - Wednesday, October 2, 2002',\n",
    "    'The Guardian - Friday, 11.10.13',\n",
    "    'Daily News - Thursday, 18 August 1977'\n",
    "]\n",
    "\n",
    "formats = {\n",
    "    'The Moscow Times': '%A, %B %d, %Y',\n",
    "    'The Guardian': '%A, %d.%m.%y',\n",
    "    'Daily News': '%A, %d %B %Y'\n",
    "}\n",
    "\n",
    "for line in lines:\n",
    "    magazin, dt_str = line.split(' - ')\n",
    "    dt = datetime.strptime(dt_str, formats[magazin])\n",
    "    print(magazin, dt)"
   ]
  },
  {
   "cell_type": "markdown",
   "metadata": {},
   "source": [
    "Задание 2\n",
    "Дан поток дат в формате YYYY-MM-DD, в которых встречаются некорректные значения:\n",
    "stream = [‘2018-04-02’, ‘2018-02-29’, ‘2018-19-02’]\n",
    "\n",
    "Напишите функцию, которая проверяет эти даты на корректность. Т. е. для каждой даты возвращает True (дата корректна) или False (некорректная дата)."
   ]
  },
  {
   "cell_type": "code",
   "execution_count": 23,
   "metadata": {},
   "outputs": [
    {
     "name": "stdout",
     "output_type": "stream",
     "text": [
      "True\n",
      "False\n",
      "False\n",
      "True\n"
     ]
    }
   ],
   "source": [
    "stream = ['2018-04-02', '2018-02-29', '2018-19-02', '2016-02-29']\n",
    "def check_date(date_list):\n",
    "    for date in date_list:\n",
    "        try:\n",
    "            date == datetime.strptime(date, '%Y-%m-%d')\n",
    "            print(True)\n",
    "        except:\n",
    "            print(False)\n",
    "    return\n",
    "check_date(stream)"
   ]
  },
  {
   "cell_type": "code",
   "execution_count": null,
   "metadata": {},
   "outputs": [],
   "source": []
  },
  {
   "cell_type": "markdown",
   "metadata": {},
   "source": [
    "Задание 3\n",
    "Напишите функцию date_range, которая возвращает список дат за период от start_date до end_date. Даты должны вводиться в формате YYYY-MM-DD. В случае неверного формата или при start_date > end_date должен возвращаться пустой список."
   ]
  },
  {
   "cell_type": "code",
   "execution_count": 55,
   "metadata": {},
   "outputs": [],
   "source": [
    "from datetime import timedelta\n",
    "\n",
    "def get_dates_between(start_date, end_date):\n",
    "    dt_format = '%Y-%m-%d'\n",
    "    try:\n",
    "        dt1 = datetime.strptime(start_date, dt_format)\n",
    "        dt2 = datetime.strptime(end_date, dt_format)\n",
    "    except:\n",
    "        return []\n",
    "    \n",
    "    dates = []\n",
    "    current_date = dt1\n",
    "   \n",
    "    while current_date <= dt2:\n",
    "        dates.append(current_date)\n",
    "        current_date = current_date + timedelta(days=1)\n",
    "    \n",
    "    return dates"
   ]
  },
  {
   "cell_type": "code",
   "execution_count": 59,
   "metadata": {},
   "outputs": [
    {
     "name": "stdout",
     "output_type": "stream",
     "text": [
      "Input start date:  2020-02-25\n",
      "Input end date:  2020-03-02\n"
     ]
    },
    {
     "data": {
      "text/plain": [
       "[datetime.datetime(2020, 2, 25, 0, 0),\n",
       " datetime.datetime(2020, 2, 26, 0, 0),\n",
       " datetime.datetime(2020, 2, 27, 0, 0),\n",
       " datetime.datetime(2020, 2, 28, 0, 0),\n",
       " datetime.datetime(2020, 2, 29, 0, 0),\n",
       " datetime.datetime(2020, 3, 1, 0, 0),\n",
       " datetime.datetime(2020, 3, 2, 0, 0)]"
      ]
     },
     "execution_count": 59,
     "metadata": {},
     "output_type": "execute_result"
    }
   ],
   "source": [
    "start_date = input ('Input start date:  ') \n",
    "end_date = input ('Input end date:  ')\n",
    "\n",
    "get_dates_between(start_date, end_date)"
   ]
  },
  {
   "cell_type": "code",
   "execution_count": null,
   "metadata": {},
   "outputs": [],
   "source": []
  }
 ],
 "metadata": {
  "kernelspec": {
   "display_name": "Python 3",
   "language": "python",
   "name": "python3"
  },
  "language_info": {
   "codemirror_mode": {
    "name": "ipython",
    "version": 3
   },
   "file_extension": ".py",
   "mimetype": "text/x-python",
   "name": "python",
   "nbconvert_exporter": "python",
   "pygments_lexer": "ipython3",
   "version": "3.7.6"
  }
 },
 "nbformat": 4,
 "nbformat_minor": 4
}
